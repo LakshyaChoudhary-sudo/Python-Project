{
 "cells": [
  {
   "cell_type": "code",
   "execution_count": 3,
   "id": "434a5bfc-c00e-4c4d-80bb-ecd0d172d1d1",
   "metadata": {},
   "outputs": [],
   "source": [
    "import pandas as pd\n",
    "import matplotlib.pyplot as plt\n",
    "import seaborn as sns\n",
    "from openpyxl import Workbook\n",
    "from openpyxl.utils.dataframe import dataframe_to_rows\n",
    "from openpyxl.chart import BarChart, Reference"
   ]
  },
  {
   "cell_type": "code",
   "execution_count": 5,
   "id": "ee5d2f50-836f-4fbb-8fbd-0b9b73d1ed50",
   "metadata": {},
   "outputs": [],
   "source": [
    "data = pd.read_csv(r\"E:\\employees_final.csv\")"
   ]
  },
  {
   "cell_type": "code",
   "execution_count": 5,
   "id": "a2f165a0-811c-45e2-a2a8-ca24050f99ba",
   "metadata": {},
   "outputs": [
    {
     "name": "stdout",
     "output_type": "stream",
     "text": [
      "       employee_id         department     region  education gender  \\\n",
      "0             8724         Technology  region_26  Bachelors      m   \n",
      "1            74430                 HR   region_4  Bachelors      f   \n",
      "2            72255  Sales & Marketing  region_13  Bachelors      m   \n",
      "3            38562        Procurement   region_2  Bachelors      f   \n",
      "4            64486            Finance  region_29  Bachelors      m   \n",
      "...            ...                ...        ...        ...    ...   \n",
      "16641        70260         Operations   region_2  Bachelors      m   \n",
      "16642        12373         Technology   region_2  Bachelors      m   \n",
      "16643        12670         Technology  region_27  Bachelors      f   \n",
      "16644        68188                 HR   region_7  Bachelors      f   \n",
      "16645        11927         Operations  region_17  Bachelors      f   \n",
      "\n",
      "      recruitment_channel  no_of_trainings  age  previous_year_rating  \\\n",
      "0                sourcing                1   24                   3.0   \n",
      "1                   other                1   31                   1.0   \n",
      "2                   other                1   31                   2.0   \n",
      "3                   other                3   31                   4.0   \n",
      "4                sourcing                1   30                   3.0   \n",
      "...                   ...              ...  ...                   ...   \n",
      "16641            sourcing                1   31                   NaN   \n",
      "16642            sourcing                1   32                   NaN   \n",
      "16643               other                1   28                   NaN   \n",
      "16644               other                1   30                   NaN   \n",
      "16645            sourcing                3   26                   NaN   \n",
      "\n",
      "       length_of_service  KPIs_met_more_than_80  awards_won  \\\n",
      "0                      1                      1           0   \n",
      "1                      5                      0           0   \n",
      "2                      4                      0           0   \n",
      "3                      9                      0           0   \n",
      "4                      7                      0           0   \n",
      "...                  ...                    ...         ...   \n",
      "16641                  3                      0           0   \n",
      "16642                  6                      1           0   \n",
      "16643                  5                      1           0   \n",
      "16644                  8                      0           0   \n",
      "16645                  1                      1           0   \n",
      "\n",
      "       avg_training_score  \n",
      "0                      77  \n",
      "1                      51  \n",
      "2                      47  \n",
      "3                      65  \n",
      "4                      61  \n",
      "...                   ...  \n",
      "16641                  53  \n",
      "16642                  76  \n",
      "16643                  82  \n",
      "16644                  48  \n",
      "16645                  64  \n",
      "\n",
      "[16646 rows x 13 columns]\n"
     ]
    }
   ],
   "source": [
    "print(data)"
   ]
  },
  {
   "cell_type": "code",
   "execution_count": 11,
   "id": "b4081271-60ee-4a8d-8c5a-e0d7eb74f79a",
   "metadata": {},
   "outputs": [
    {
     "data": {
      "text/plain": [
       "employee_id                0\n",
       "department                 0\n",
       "region                     0\n",
       "education                  0\n",
       "gender                     0\n",
       "recruitment_channel        0\n",
       "no_of_trainings            0\n",
       "age                        0\n",
       "previous_year_rating     592\n",
       "length_of_service          0\n",
       "KPIs_met_more_than_80      0\n",
       "awards_won                 0\n",
       "avg_training_score         0\n",
       "dtype: int64"
      ]
     },
     "execution_count": 11,
     "metadata": {},
     "output_type": "execute_result"
    }
   ],
   "source": [
    "data.isnull().sum()"
   ]
  },
  {
   "cell_type": "code",
   "execution_count": 13,
   "id": "08d91df0-7d11-4447-b8cc-7f87e4310a7a",
   "metadata": {},
   "outputs": [
    {
     "name": "stdout",
     "output_type": "stream",
     "text": [
      "float64\n"
     ]
    }
   ],
   "source": [
    "print(data['previous_year_rating'].dtype)\n"
   ]
  },
  {
   "cell_type": "code",
   "execution_count": 15,
   "id": "3c6fd52b-14dc-4583-8840-1535a5f93688",
   "metadata": {},
   "outputs": [],
   "source": [
    "data['previous_year_rating'] = data['previous_year_rating'].fillna(data['previous_year_rating'].median())\n"
   ]
  },
  {
   "cell_type": "code",
   "execution_count": 17,
   "id": "128c118a-df29-42a0-b84c-09361b4b16b9",
   "metadata": {},
   "outputs": [
    {
     "data": {
      "text/plain": [
       "employee_id              0\n",
       "department               0\n",
       "region                   0\n",
       "education                0\n",
       "gender                   0\n",
       "recruitment_channel      0\n",
       "no_of_trainings          0\n",
       "age                      0\n",
       "previous_year_rating     0\n",
       "length_of_service        0\n",
       "KPIs_met_more_than_80    0\n",
       "awards_won               0\n",
       "avg_training_score       0\n",
       "dtype: int64"
      ]
     },
     "execution_count": 17,
     "metadata": {},
     "output_type": "execute_result"
    }
   ],
   "source": [
    "data.isnull().sum()"
   ]
  },
  {
   "cell_type": "code",
   "execution_count": 19,
   "id": "073bcd2a-0487-4918-9eaf-cbb4f1c2c79b",
   "metadata": {},
   "outputs": [],
   "source": [
    "def generate_summary(data):\n",
    "    \"\"\"Generate descriptive and department-wise summaries.\"\"\"\n",
    "    summary_stats = data.describe().transpose()\n",
    "    department_summary = data.groupby('department').agg({\n",
    "        'employee_id': 'count',\n",
    "        'avg_training_score': 'mean',\n",
    "        'KPIs_met_more_than_80': 'sum',\n",
    "        'awards_won': 'sum',\n",
    "        'length_of_service': 'mean'\n",
    "    }).rename(columns={\n",
    "        'employee_id': 'Employee Count',\n",
    "        'avg_training_score': 'Avg Training Score',\n",
    "        'KPIs_met_more_than_80': 'KPIs Met >80%',\n",
    "        'awards_won': 'Total Awards',\n",
    "        'length_of_service': 'Avg Length of Service'\n",
    "    })\n",
    "    return summary_stats, department_summary"
   ]
  },
  {
   "cell_type": "code",
   "execution_count": 21,
   "id": "edb8f4a6-920c-4c9a-b2b8-6232512c0225",
   "metadata": {},
   "outputs": [],
   "source": [
    "def create_visualizations(department_summary, output_path):\n",
    "    \"\"\"Create and save visualizations.\"\"\"\n",
    "    plt.figure(figsize=(12, 6))\n",
    "    sns.barplot(data=department_summary.reset_index(), x='department', y='Avg Training Score', palette='viridis')\n",
    "    plt.title('Average Training Score by Department')\n",
    "    plt.xticks(rotation=45)\n",
    "    plt.tight_layout()\n",
    "    plt.savefig(output_path)"
   ]
  },
  {
   "cell_type": "code",
   "execution_count": 23,
   "id": "ab44329d-df23-4e2f-bf16-925231652d19",
   "metadata": {},
   "outputs": [],
   "source": [
    "def generate_excel_report(summary_stats, department_summary, output_path):\n",
    "    \"\"\"Generate an automated Excel report.\"\"\"\n",
    "    wb = Workbook()\n",
    "\n",
    "    # Add Summary Statistics Sheet\n",
    "    ws_summary = wb.active\n",
    "    ws_summary.title = 'Summary Stats'\n",
    "    for r in dataframe_to_rows(summary_stats, index=True, header=True):\n",
    "        ws_summary.append(r)\n",
    "\n",
    "    # Add Department-Wise Summary Sheet\n",
    "    ws_department = wb.create_sheet(title='Department Analysis')\n",
    "    for r in dataframe_to_rows(department_summary, index=True, header=True):\n",
    "        ws_department.append(r)\n",
    "\n",
    "    # Add Chart to Department-Wise Analysis\n",
    "    chart = BarChart()\n",
    "    data = Reference(ws_department, min_col=2, max_col=5, min_row=1, max_row=len(department_summary)+1)\n",
    "    categories = Reference(ws_department, min_col=1, min_row=2, max_row=len(department_summary)+1)\n",
    "    chart.add_data(data, titles_from_data=True)\n",
    "    chart.set_categories(categories)\n",
    "    chart.title = \"Department Metrics\"\n",
    "    chart.x_axis.title = \"Department\"\n",
    "    chart.y_axis.title = \"Metrics\"\n",
    "    ws_department.add_chart(chart, \"G2\")\n",
    "\n",
    "    # Save Excel Report\n",
    "    wb.save(output_path)\n",
    "\n"
   ]
  },
  {
   "cell_type": "code",
   "execution_count": 29,
   "id": "9b783511-7380-4841-8795-ccd04de36503",
   "metadata": {},
   "outputs": [],
   "source": [
    "def main():\n",
    "    # Load dataset\n",
    "    file_path = r'E:\\employees_final.csv'\n",
    "    output_excel = 'Automated_Employee_Report.xlsx'\n",
    "    output_chart = 'avg_training_score_by_department.png'\n",
    "\n",
    "    data = pd.read_csv(file_path)\n",
    "\n",
    "    # Generate summaries\n",
    "    summary_stats, department_summary = generate_summary(data)\n",
    "\n",
    "    # Create visualizations\n",
    "    create_visualizations(department_summary, output_chart)\n",
    "\n",
    "    # Generate Excel report\n",
    "    generate_excel_report(summary_stats, department_summary, output_excel)"
   ]
  },
  {
   "cell_type": "code",
   "execution_count": 31,
   "id": "cafef33c-72a0-40fa-a987-a663e307a957",
   "metadata": {},
   "outputs": [
    {
     "name": "stderr",
     "output_type": "stream",
     "text": [
      "C:\\Users\\LENOVO\\AppData\\Local\\Temp\\ipykernel_4016\\2735045858.py:4: FutureWarning: \n",
      "\n",
      "Passing `palette` without assigning `hue` is deprecated and will be removed in v0.14.0. Assign the `x` variable to `hue` and set `legend=False` for the same effect.\n",
      "\n",
      "  sns.barplot(data=department_summary.reset_index(), x='department', y='Avg Training Score', palette='viridis')\n"
     ]
    },
    {
     "data": {
      "image/png": "[encoded data removed]",
      "text/plain": [
       "<Figure size 1200x600 with 1 Axes>"
      ]
     },
     "metadata": {},
     "output_type": "display_data"
    }
   ],
   "source": [
    "if __name__ == \"__main__\":\n",
    "    main()"
   ]
  },
  {
   "cell_type": "code",
   "execution_count": 9,
   "id": "bfc35294-17e1-4a2d-994a-e0f431a02190",
   "metadata": {},
   "outputs": [
    {
     "name": "stdout",
     "output_type": "stream",
     "text": [
      "                         count          mean           std   min      25%  \\\n",
      "employee_id            16646.0  39046.928932  22663.876934   3.0  19318.0   \n",
      "no_of_trainings        16646.0      1.251352      0.597800   1.0      1.0   \n",
      "age                    16646.0     34.805779      7.687745  20.0     29.0   \n",
      "previous_year_rating   16054.0      3.345459      1.265386   1.0      3.0   \n",
      "length_of_service      16646.0      5.804217      4.174023   1.0      3.0   \n",
      "KPIs_met_more_than_80  16646.0      0.359125      0.479758   0.0      0.0   \n",
      "awards_won             16646.0      0.023069      0.150126   0.0      0.0   \n",
      "avg_training_score     16646.0     63.186712     13.413693  40.0     51.0   \n",
      "\n",
      "                           50%       75%      max  \n",
      "employee_id            38993.5  58714.25  78295.0  \n",
      "no_of_trainings            1.0      1.00      9.0  \n",
      "age                       33.0     39.00     60.0  \n",
      "previous_year_rating       3.0      4.00      5.0  \n",
      "length_of_service          5.0      7.00     34.0  \n",
      "KPIs_met_more_than_80      0.0      1.00      1.0  \n",
      "awards_won                 0.0      0.00      1.0  \n",
      "avg_training_score        60.0     75.00     99.0  \n"
     ]
    }
   ],
   "source": [
    "summary_stats = data.describe().transpose()\n",
    "print(summary_stats)"
   ]
  },
  {
   "cell_type": "code",
   "execution_count": null,
   "id": "c6639b6a-daec-4c29-b9da-99e7adc50815",
   "metadata": {},
   "outputs": [],
   "source": []
  },
  {
   "cell_type": "code",
   "execution_count": null,
   "id": "3a675a5b-242f-4b41-b292-a6ffa175bcbf",
   "metadata": {},
   "outputs": [],
   "source": []
  },
  {
   "cell_type": "code",
   "execution_count": null,
   "id": "5ffb878d-a132-41a1-9692-48f45d1cec43",
   "metadata": {},
   "outputs": [],
   "source": []
  },
  {
   "cell_type": "code",
   "execution_count": null,
   "id": "5fbb2fdc-fa1b-4395-878e-e0e99526d9c6",
   "metadata": {},
   "outputs": [],
   "source": []
  },
  {
   "cell_type": "code",
   "execution_count": null,
   "id": "37788291-6017-4ecb-81bb-14f4aba75143",
   "metadata": {},
   "outputs": [],
   "source": []
  },
  {
   "cell_type": "code",
   "execution_count": null,
   "id": "5d7a2274-7ac3-45a3-9c6c-4bb7aa28a5f2",
   "metadata": {},
   "outputs": [],
   "source": []
  },
  {
   "cell_type": "code",
   "execution_count": null,
   "id": "d72caddc-e6f0-4fe0-9733-219a49ece41f",
   "metadata": {},
   "outputs": [],
   "source": []
  },
  {
   "cell_type": "code",
   "execution_count": null,
   "id": "ca3ba248-8a00-4f44-ab2e-7391c0bcf1bd",
   "metadata": {},
   "outputs": [],
   "source": []
  },
  {
   "cell_type": "code",
   "execution_count": null,
   "id": "135e8b8b-0f29-4454-ad71-3a2e93329c3b",
   "metadata": {},
   "outputs": [],
   "source": []
  },
  {
   "cell_type": "code",
   "execution_count": null,
   "id": "ad016ca0-1c58-4ee0-87ec-def81a99e021",
   "metadata": {},
   "outputs": [],
   "source": []
  },
  {
   "cell_type": "code",
   "execution_count": null,
   "id": "ab55f7d4-4918-4144-8fc9-0c5d9245186a",
   "metadata": {},
   "outputs": [],
   "source": []
  },
  {
   "cell_type": "code",
   "execution_count": null,
   "id": "71f377a8-0fd0-4309-bb6b-ffd869b1a898",
   "metadata": {},
   "outputs": [],
   "source": []
  },
  {
   "cell_type": "code",
   "execution_count": null,
   "id": "b94c5a3a-6a33-442a-ab53-9940e31901ba",
   "metadata": {},
   "outputs": [],
   "source": []
  },
  {
   "cell_type": "code",
   "execution_count": null,
   "id": "f68ddaa0-9e4f-41f9-97d7-f11679f57fb7",
   "metadata": {},
   "outputs": [],
   "source": []
  },
  {
   "cell_type": "code",
   "execution_count": null,
   "id": "9a5f39bf-9c54-422b-8722-e70ac50c154c",
   "metadata": {},
   "outputs": [],
   "source": []
  },
  {
   "cell_type": "code",
   "execution_count": null,
   "id": "34962bb9-ea14-48d9-ac45-ffa476fc1c9b",
   "metadata": {},
   "outputs": [],
   "source": []
  },
  {
   "cell_type": "code",
   "execution_count": null,
   "id": "c8785577-d0ee-491c-87c4-b9d3641b71b3",
   "metadata": {},
   "outputs": [],
   "source": []
  },
  {
   "cell_type": "code",
   "execution_count": null,
   "id": "090f94bc-cb45-4db0-824c-581da41f78ce",
   "metadata": {},
   "outputs": [],
   "source": []
  },
  {
   "cell_type": "code",
   "execution_count": null,
   "id": "636a319d-642a-475e-ad29-4db389b81004",
   "metadata": {},
   "outputs": [],
   "source": []
  },
  {
   "cell_type": "code",
   "execution_count": null,
   "id": "f13b0f12-9bc1-48cd-a37a-b0bc07a0d80f",
   "metadata": {},
   "outputs": [],
   "source": []
  },
  {
   "cell_type": "code",
   "execution_count": null,
   "id": "de3ee4f9-9560-401b-8a42-e2df0365a12b",
   "metadata": {},
   "outputs": [],
   "source": []
  },
  {
   "cell_type": "code",
   "execution_count": null,
   "id": "c5b801ae-2c5e-4deb-aaa7-44b681f1a666",
   "metadata": {},
   "outputs": [],
   "source": []
  },
  {
   "cell_type": "code",
   "execution_count": null,
   "id": "fcc0d850-e634-451b-ab5b-60a433841efc",
   "metadata": {},
   "outputs": [],
   "source": []
  },
  {
   "cell_type": "code",
   "execution_count": null,
   "id": "2c727459-9903-4122-a75e-cf9d31184e5b",
   "metadata": {},
   "outputs": [],
   "source": []
  },
  {
   "cell_type": "code",
   "execution_count": null,
   "id": "d4320f24-430e-49f2-a47b-ba29f9c19d55",
   "metadata": {},
   "outputs": [],
   "source": []
  },
  {
   "cell_type": "code",
   "execution_count": null,
   "id": "7bd24323-6000-4085-8075-2e5a09ebbfb1",
   "metadata": {},
   "outputs": [],
   "source": []
  },
  {
   "cell_type": "code",
   "execution_count": null,
   "id": "178ab9bd-e781-47d8-b82d-cf24a4f0b2b8",
   "metadata": {},
   "outputs": [],
   "source": []
  },
  {
   "cell_type": "code",
   "execution_count": null,
   "id": "28b42c65-32c6-4a29-8106-afcc78c74908",
   "metadata": {},
   "outputs": [],
   "source": []
  },
  {
   "cell_type": "code",
   "execution_count": null,
   "id": "e6ac1f6d-9f05-4f48-b974-21d253572d50",
   "metadata": {},
   "outputs": [],
   "source": []
  },
  {
   "cell_type": "code",
   "execution_count": null,
   "id": "314712ff-f66b-4b54-a671-fe5ddea43077",
   "metadata": {},
   "outputs": [],
   "source": []
  },
  {
   "cell_type": "code",
   "execution_count": null,
   "id": "b2640d20-c327-4a7e-91b5-00cf9a23baea",
   "metadata": {},
   "outputs": [],
   "source": []
  },
  {
   "cell_type": "code",
   "execution_count": null,
   "id": "bdf7cbb1-6dbb-437d-bb11-180553e313df",
   "metadata": {},
   "outputs": [],
   "source": []
  },
  {
   "cell_type": "code",
   "execution_count": null,
   "id": "49619736-1b08-4b49-98da-1491654feaf3",
   "metadata": {},
   "outputs": [],
   "source": []
  },
  {
   "cell_type": "code",
   "execution_count": null,
   "id": "a50c1078-eb8d-41dc-8103-a12f22a8373d",
   "metadata": {},
   "outputs": [],
   "source": []
  },
  {
   "cell_type": "code",
   "execution_count": null,
   "id": "ae485def-d78a-4059-92c5-0e4098a509e1",
   "metadata": {},
   "outputs": [],
   "source": []
  },
  {
   "cell_type": "code",
   "execution_count": null,
   "id": "7aa3b069-1300-44ef-8cb0-0929d6d9b2ee",
   "metadata": {},
   "outputs": [],
   "source": []
  }
 ],
 "metadata": {
  "kernelspec": {
   "display_name": "Python 3 (ipykernel)",
   "language": "python",
   "name": "python3"
  },
  "language_info": {
   "codemirror_mode": {
    "name": "ipython",
    "version": 3
   },
   "file_extension": ".py",
   "mimetype": "text/x-python",
   "name": "python",
   "nbconvert_exporter": "python",
   "pygments_lexer": "ipython3",
   "version": "3.12.4"
  }
 },
 "nbformat": 4,
 "nbformat_minor": 5
}
